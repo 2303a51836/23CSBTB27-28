{
  "nbformat": 4,
  "nbformat_minor": 0,
  "metadata": {
    "colab": {
      "provenance": [],
      "authorship_tag": "ABX9TyPMQ7KdcgG8aczOnOCmQLC5",
      "include_colab_link": true
    },
    "kernelspec": {
      "name": "python3",
      "display_name": "Python 3"
    },
    "language_info": {
      "name": "python"
    }
  },
  "cells": [
    {
      "cell_type": "markdown",
      "metadata": {
        "id": "view-in-github",
        "colab_type": "text"
      },
      "source": [
        "<a href=\"https://colab.research.google.com/github/2303a51836/23CSBTB27-28/blob/main/Untitled4.ipynb\" target=\"_parent\"><img src=\"https://colab.research.google.com/assets/colab-badge.svg\" alt=\"Open In Colab\"/></a>"
      ]
    },
    {
      "cell_type": "code",
      "execution_count": 1,
      "metadata": {
        "colab": {
          "base_uri": "https://localhost:8080/"
        },
        "id": "UkAJtc6WAEB0",
        "outputId": "92743dd3-7758-4d97-af45-61007125a567"
      },
      "outputs": [
        {
          "output_type": "stream",
          "name": "stdout",
          "text": [
            "{1, 2, 5, 6, 7}\n",
            "[3, 6, 1, 8]\n",
            "<class 'set'>\n",
            "<class 'list'>\n"
          ]
        }
      ],
      "source": [
        "import numpy as np\n",
        "list={1,5,2,6,7}\n",
        "listl=[3,6,1,8]\n",
        "print(list)\n",
        "print(listl)\n",
        "print(type(list))\n",
        "print(type(listl))\n",
        ""
      ]
    },
    {
      "cell_type": "code",
      "source": [
        "List1 = [\"Geeks\", \"For\", \"Geeks\"]\n",
        "List2 = \"my first lab\"\n",
        "List3 = 4.3\n",
        "List4 = 2j+6\n",
        "List5 = 'My First Lab'\n",
        "print(type(List2))\n",
        "print(type(List3))\n",
        "print(type(List4))\n",
        "print(type(List5))\n",
        "print(\"\\nList Items:  \")\n",
        "print(List1)\n",
        "print(type(List1))\n",
        "print(List1[0])\n",
        "print(List1[2])"
      ],
      "metadata": {
        "colab": {
          "base_uri": "https://localhost:8080/"
        },
        "id": "4Jm36Z-5ALBq",
        "outputId": "b961b0b7-0b79-44a0-a9b7-2d2c2eb27aee"
      },
      "execution_count": 2,
      "outputs": [
        {
          "output_type": "stream",
          "name": "stdout",
          "text": [
            "<class 'str'>\n",
            "<class 'float'>\n",
            "<class 'complex'>\n",
            "<class 'str'>\n",
            "\n",
            "List Items:  \n",
            "['Geeks', 'For', 'Geeks']\n",
            "<class 'list'>\n",
            "Geeks\n",
            "Geeks\n"
          ]
        }
      ]
    },
    {
      "cell_type": "code",
      "source": [
        "\n",
        "List ={1:\"greek1\",2:'Geeks', 'For':3,'Geeks':6}\n",
        "print(\"\\nList with the use of Mixed Values: \")\n",
        "print(List)\n",
        "print(type(List))"
      ],
      "metadata": {
        "colab": {
          "base_uri": "https://localhost:8080/"
        },
        "id": "SXxb5zI7AOx9",
        "outputId": "0451dc59-0888-4ca9-9dcb-25d7f9ca523c"
      },
      "execution_count": 3,
      "outputs": [
        {
          "output_type": "stream",
          "name": "stdout",
          "text": [
            "\n",
            "List with the use of Mixed Values: \n",
            "{1: 'greek1', 2: 'Geeks', 'For': 3, 'Geeks': 6}\n",
            "<class 'dict'>\n"
          ]
        }
      ]
    }
  ]
}